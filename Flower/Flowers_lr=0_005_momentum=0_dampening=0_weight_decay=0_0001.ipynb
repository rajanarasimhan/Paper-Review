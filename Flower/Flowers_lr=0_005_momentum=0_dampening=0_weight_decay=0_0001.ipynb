{
  "nbformat": 4,
  "nbformat_minor": 0,
  "metadata": {
    "accelerator": "GPU",
    "colab": {
      "name": "Flowers_lr=0.005_momentum=0_dampening=0_weight_decay=0.0001.ipynb",
      "provenance": [],
      "collapsed_sections": []
    },
    "kernelspec": {
      "display_name": "Python 3",
      "language": "python",
      "name": "python3"
    },
    "language_info": {
      "codemirror_mode": {
        "name": "ipython",
        "version": 3
      },
      "file_extension": ".py",
      "mimetype": "text/x-python",
      "name": "python",
      "nbconvert_exporter": "python",
      "pygments_lexer": "ipython3",
      "version": "3.7.3"
    },
    "widgets": {
      "application/vnd.jupyter.widget-state+json": {
        "976de4e0ecb9423e9ae6ab9a4b9d6032": {
          "model_module": "@jupyter-widgets/controls",
          "model_name": "HBoxModel",
          "state": {
            "_view_name": "HBoxView",
            "_dom_classes": [],
            "_model_name": "HBoxModel",
            "_view_module": "@jupyter-widgets/controls",
            "_model_module_version": "1.5.0",
            "_view_count": null,
            "_view_module_version": "1.5.0",
            "box_style": "",
            "layout": "IPY_MODEL_e53334807fe644e884e64f8648d11d9b",
            "_model_module": "@jupyter-widgets/controls",
            "children": [
              "IPY_MODEL_539ae00f117c4b1db63602a3b57c6178",
              "IPY_MODEL_79976196a0524d7ea0aad07ca4dae036"
            ]
          }
        },
        "e53334807fe644e884e64f8648d11d9b": {
          "model_module": "@jupyter-widgets/base",
          "model_name": "LayoutModel",
          "state": {
            "_view_name": "LayoutView",
            "grid_template_rows": null,
            "right": null,
            "justify_content": null,
            "_view_module": "@jupyter-widgets/base",
            "overflow": null,
            "_model_module_version": "1.2.0",
            "_view_count": null,
            "flex_flow": null,
            "width": null,
            "min_width": null,
            "border": null,
            "align_items": null,
            "bottom": null,
            "_model_module": "@jupyter-widgets/base",
            "top": null,
            "grid_column": null,
            "overflow_y": null,
            "overflow_x": null,
            "grid_auto_flow": null,
            "grid_area": null,
            "grid_template_columns": null,
            "flex": null,
            "_model_name": "LayoutModel",
            "justify_items": null,
            "grid_row": null,
            "max_height": null,
            "align_content": null,
            "visibility": null,
            "align_self": null,
            "height": null,
            "min_height": null,
            "padding": null,
            "grid_auto_rows": null,
            "grid_gap": null,
            "max_width": null,
            "order": null,
            "_view_module_version": "1.2.0",
            "grid_template_areas": null,
            "object_position": null,
            "object_fit": null,
            "grid_auto_columns": null,
            "margin": null,
            "display": null,
            "left": null
          }
        },
        "539ae00f117c4b1db63602a3b57c6178": {
          "model_module": "@jupyter-widgets/controls",
          "model_name": "FloatProgressModel",
          "state": {
            "_view_name": "ProgressView",
            "style": "IPY_MODEL_4ca855a9ef174d08a8d4a2b855fbe63f",
            "_dom_classes": [],
            "description": "100%",
            "_model_name": "FloatProgressModel",
            "bar_style": "success",
            "max": 178728960,
            "_view_module": "@jupyter-widgets/controls",
            "_model_module_version": "1.5.0",
            "value": 178728960,
            "_view_count": null,
            "_view_module_version": "1.5.0",
            "orientation": "horizontal",
            "min": 0,
            "description_tooltip": null,
            "_model_module": "@jupyter-widgets/controls",
            "layout": "IPY_MODEL_7d54d6a8e98c4cbca0940908720122a6"
          }
        },
        "79976196a0524d7ea0aad07ca4dae036": {
          "model_module": "@jupyter-widgets/controls",
          "model_name": "HTMLModel",
          "state": {
            "_view_name": "HTMLView",
            "style": "IPY_MODEL_dd3a02caf77a472aabaafc0878a3b498",
            "_dom_classes": [],
            "description": "",
            "_model_name": "HTMLModel",
            "placeholder": "​",
            "_view_module": "@jupyter-widgets/controls",
            "_model_module_version": "1.5.0",
            "value": " 170M/170M [00:10&lt;00:00, 17.1MB/s]",
            "_view_count": null,
            "_view_module_version": "1.5.0",
            "description_tooltip": null,
            "_model_module": "@jupyter-widgets/controls",
            "layout": "IPY_MODEL_4795684cbc20417ab6cf37df5c2cbbd3"
          }
        },
        "4ca855a9ef174d08a8d4a2b855fbe63f": {
          "model_module": "@jupyter-widgets/controls",
          "model_name": "ProgressStyleModel",
          "state": {
            "_view_name": "StyleView",
            "_model_name": "ProgressStyleModel",
            "description_width": "initial",
            "_view_module": "@jupyter-widgets/base",
            "_model_module_version": "1.5.0",
            "_view_count": null,
            "_view_module_version": "1.2.0",
            "bar_color": null,
            "_model_module": "@jupyter-widgets/controls"
          }
        },
        "7d54d6a8e98c4cbca0940908720122a6": {
          "model_module": "@jupyter-widgets/base",
          "model_name": "LayoutModel",
          "state": {
            "_view_name": "LayoutView",
            "grid_template_rows": null,
            "right": null,
            "justify_content": null,
            "_view_module": "@jupyter-widgets/base",
            "overflow": null,
            "_model_module_version": "1.2.0",
            "_view_count": null,
            "flex_flow": null,
            "width": null,
            "min_width": null,
            "border": null,
            "align_items": null,
            "bottom": null,
            "_model_module": "@jupyter-widgets/base",
            "top": null,
            "grid_column": null,
            "overflow_y": null,
            "overflow_x": null,
            "grid_auto_flow": null,
            "grid_area": null,
            "grid_template_columns": null,
            "flex": null,
            "_model_name": "LayoutModel",
            "justify_items": null,
            "grid_row": null,
            "max_height": null,
            "align_content": null,
            "visibility": null,
            "align_self": null,
            "height": null,
            "min_height": null,
            "padding": null,
            "grid_auto_rows": null,
            "grid_gap": null,
            "max_width": null,
            "order": null,
            "_view_module_version": "1.2.0",
            "grid_template_areas": null,
            "object_position": null,
            "object_fit": null,
            "grid_auto_columns": null,
            "margin": null,
            "display": null,
            "left": null
          }
        },
        "dd3a02caf77a472aabaafc0878a3b498": {
          "model_module": "@jupyter-widgets/controls",
          "model_name": "DescriptionStyleModel",
          "state": {
            "_view_name": "StyleView",
            "_model_name": "DescriptionStyleModel",
            "description_width": "",
            "_view_module": "@jupyter-widgets/base",
            "_model_module_version": "1.5.0",
            "_view_count": null,
            "_view_module_version": "1.2.0",
            "_model_module": "@jupyter-widgets/controls"
          }
        },
        "4795684cbc20417ab6cf37df5c2cbbd3": {
          "model_module": "@jupyter-widgets/base",
          "model_name": "LayoutModel",
          "state": {
            "_view_name": "LayoutView",
            "grid_template_rows": null,
            "right": null,
            "justify_content": null,
            "_view_module": "@jupyter-widgets/base",
            "overflow": null,
            "_model_module_version": "1.2.0",
            "_view_count": null,
            "flex_flow": null,
            "width": null,
            "min_width": null,
            "border": null,
            "align_items": null,
            "bottom": null,
            "_model_module": "@jupyter-widgets/base",
            "top": null,
            "grid_column": null,
            "overflow_y": null,
            "overflow_x": null,
            "grid_auto_flow": null,
            "grid_area": null,
            "grid_template_columns": null,
            "flex": null,
            "_model_name": "LayoutModel",
            "justify_items": null,
            "grid_row": null,
            "max_height": null,
            "align_content": null,
            "visibility": null,
            "align_self": null,
            "height": null,
            "min_height": null,
            "padding": null,
            "grid_auto_rows": null,
            "grid_gap": null,
            "max_width": null,
            "order": null,
            "_view_module_version": "1.2.0",
            "grid_template_areas": null,
            "object_position": null,
            "object_fit": null,
            "grid_auto_columns": null,
            "margin": null,
            "display": null,
            "left": null
          }
        }
      }
    }
  },
  "cells": [
    {
      "cell_type": "code",
      "metadata": {
        "colab_type": "code",
        "id": "dLRaPpS1Ahzl",
        "colab": {
          "base_uri": "https://localhost:8080/",
          "height": 208
        },
        "outputId": "434cb0d3-824d-4834-d706-77962d1f8ba2"
      },
      "source": [
        "!wget -nc https://s3.amazonaws.com/content.udacity-data.com/courses/nd188/flower_data.zip\n",
        "!unzip -qq flower_data.zip"
      ],
      "execution_count": 1,
      "outputs": [
        {
          "output_type": "stream",
          "text": [
            "--2020-08-21 14:00:41--  https://s3.amazonaws.com/content.udacity-data.com/courses/nd188/flower_data.zip\n",
            "Resolving s3.amazonaws.com (s3.amazonaws.com)... 52.216.207.109\n",
            "Connecting to s3.amazonaws.com (s3.amazonaws.com)|52.216.207.109|:443... connected.\n",
            "HTTP request sent, awaiting response... 200 OK\n",
            "Length: 311442766 (297M) [application/zip]\n",
            "Saving to: ‘flower_data.zip’\n",
            "\n",
            "flower_data.zip     100%[===================>] 297.01M  35.8MB/s    in 9.0s    \n",
            "\n",
            "2020-08-21 14:00:50 (33.1 MB/s) - ‘flower_data.zip’ saved [311442766/311442766]\n",
            "\n"
          ],
          "name": "stdout"
        }
      ]
    },
    {
      "cell_type": "code",
      "metadata": {
        "colab_type": "code",
        "id": "g1Nm9oWzBGLT",
        "colab": {}
      },
      "source": [
        "import torch\n",
        "import torch.nn as nn\n",
        "import torch.nn.functional as F\n",
        "import torch.optim as optim\n",
        "import torch.utils.data as data\n",
        "\n",
        "import torchvision.transforms as transforms\n",
        "import torchvision.datasets as datasets\n",
        "\n",
        "from sklearn import decomposition\n",
        "from sklearn import manifold\n",
        "from sklearn.metrics import confusion_matrix\n",
        "from sklearn.metrics import ConfusionMatrixDisplay\n",
        "import matplotlib.pyplot as plt\n",
        "import numpy as np\n",
        "\n",
        "import copy\n",
        "import random\n",
        "import time\n"
      ],
      "execution_count": 2,
      "outputs": []
    },
    {
      "cell_type": "code",
      "metadata": {
        "colab_type": "code",
        "id": "4KSqpZQsBUyk",
        "colab": {}
      },
      "source": [
        "from torch.utils.data import Dataset, DataLoader"
      ],
      "execution_count": 3,
      "outputs": []
    },
    {
      "cell_type": "code",
      "metadata": {
        "colab_type": "code",
        "id": "2QyNma3RBY8n",
        "colab": {}
      },
      "source": [
        "SEED = 1234\n",
        "\n",
        "random.seed(SEED)\n",
        "np.random.seed(SEED)\n",
        "torch.manual_seed(SEED)\n",
        "torch.cuda.manual_seed(SEED)\n",
        "torch.backends.cudnn.deterministic = True"
      ],
      "execution_count": 4,
      "outputs": []
    },
    {
      "cell_type": "code",
      "metadata": {
        "colab_type": "code",
        "id": "0lWH1QXgB-oL",
        "colab": {}
      },
      "source": [
        "train_transforms = transforms.Compose([transforms.Resize(224),\n",
        "                                       transforms.CenterCrop(224),\n",
        "                                       transforms.RandomRotation(30),\n",
        "                                      transforms.RandomHorizontalFlip(),\n",
        "                                      transforms.RandomVerticalFlip(),\n",
        "                                      transforms.ToTensor(),\n",
        "                                      transforms.Normalize((0.485, 0.456, 0.406), (0.229, 0.224, 0.225))])\n"
      ],
      "execution_count": 5,
      "outputs": []
    },
    {
      "cell_type": "code",
      "metadata": {
        "colab_type": "code",
        "id": "kZ-9GrhNBbBm",
        "colab": {}
      },
      "source": [
        "train_data = datasets.ImageFolder(root = '/content/flower_data/train',transform=train_transforms)"
      ],
      "execution_count": 6,
      "outputs": []
    },
    {
      "cell_type": "code",
      "metadata": {
        "colab_type": "code",
        "id": "RXJg15cuB8Xt",
        "colab": {}
      },
      "source": [
        ""
      ],
      "execution_count": 6,
      "outputs": []
    },
    {
      "cell_type": "code",
      "metadata": {
        "colab_type": "code",
        "id": "MPbPhF5iCoLX",
        "colab": {
          "base_uri": "https://localhost:8080/",
          "height": 52
        },
        "outputId": "93d2066a-806e-4697-ac31-6bb079f1e6a9"
      },
      "source": [
        "VALID_RATIO = 0.25\n",
        "\n",
        "n_train_examples = int(len(train_data) * VALID_RATIO)\n",
        "n_valid_examples = len(train_data) - n_train_examples\n",
        "print(n_train_examples)\n",
        "print(n_valid_examples)\n",
        "\n",
        "train_data, valid_data = data.random_split(train_data, \n",
        "                                           [n_train_examples, n_valid_examples])"
      ],
      "execution_count": 7,
      "outputs": [
        {
          "output_type": "stream",
          "text": [
            "1638\n",
            "4914\n"
          ],
          "name": "stdout"
        }
      ]
    },
    {
      "cell_type": "code",
      "metadata": {
        "colab_type": "code",
        "id": "q_s94JTcGQPS",
        "colab": {}
      },
      "source": [
        "device = torch.device('cuda' if torch.cuda.is_available() else 'cpu')"
      ],
      "execution_count": 8,
      "outputs": []
    },
    {
      "cell_type": "code",
      "metadata": {
        "colab_type": "code",
        "id": "FGAYiY18GbJW",
        "colab": {}
      },
      "source": [
        "import copy\n",
        "import random\n",
        "import time\n",
        "import torchvision.models as models"
      ],
      "execution_count": 9,
      "outputs": []
    },
    {
      "cell_type": "code",
      "metadata": {
        "colab_type": "code",
        "id": "i-vA-6eeGUV2",
        "colab": {
          "base_uri": "https://localhost:8080/",
          "height": 104,
          "referenced_widgets": [
            "976de4e0ecb9423e9ae6ab9a4b9d6032",
            "e53334807fe644e884e64f8648d11d9b",
            "539ae00f117c4b1db63602a3b57c6178",
            "79976196a0524d7ea0aad07ca4dae036",
            "4ca855a9ef174d08a8d4a2b855fbe63f",
            "7d54d6a8e98c4cbca0940908720122a6",
            "dd3a02caf77a472aabaafc0878a3b498",
            "4795684cbc20417ab6cf37df5c2cbbd3"
          ]
        },
        "outputId": "951f068d-2229-4920-a0e7-cbe25ee20f27"
      },
      "source": [
        "model = models.resnet101(pretrained=True).to(device)\n",
        "\n",
        "for param in model.parameters():\n",
        "  param.requires_grad=True\n",
        "    \n",
        "model.fc = nn.Sequential(\n",
        "               nn.Linear(2048, 496),\n",
        "               nn.ReLU(inplace=True),\n",
        "               nn.Linear(496, 102)).to(device)"
      ],
      "execution_count": 10,
      "outputs": [
        {
          "output_type": "stream",
          "text": [
            "Downloading: \"https://download.pytorch.org/models/resnet101-5d3b4d8f.pth\" to /root/.cache/torch/hub/checkpoints/resnet101-5d3b4d8f.pth\n"
          ],
          "name": "stderr"
        },
        {
          "output_type": "display_data",
          "data": {
            "application/vnd.jupyter.widget-view+json": {
              "model_id": "976de4e0ecb9423e9ae6ab9a4b9d6032",
              "version_minor": 0,
              "version_major": 2
            },
            "text/plain": [
              "HBox(children=(FloatProgress(value=0.0, max=178728960.0), HTML(value='')))"
            ]
          },
          "metadata": {
            "tags": []
          }
        },
        {
          "output_type": "stream",
          "text": [
            "\n"
          ],
          "name": "stdout"
        }
      ]
    },
    {
      "cell_type": "code",
      "metadata": {
        "colab_type": "code",
        "id": "r62z9P8AGXsK",
        "colab": {}
      },
      "source": [
        "BATCH_SIZE = 16\n",
        "train_iterator = data.DataLoader(train_data, \n",
        "                                 shuffle = True, \n",
        "                                 batch_size = BATCH_SIZE)\n",
        "\n",
        "valid_iterator = data.DataLoader(valid_data, \n",
        "                                 batch_size = BATCH_SIZE)"
      ],
      "execution_count": 11,
      "outputs": []
    },
    {
      "cell_type": "code",
      "metadata": {
        "colab_type": "code",
        "id": "kru36GPPGhjS",
        "colab": {
          "base_uri": "https://localhost:8080/",
          "height": 35
        },
        "outputId": "735cad7f-0817-4783-b034-30f1d91e486e"
      },
      "source": [
        "def count_parameters(model):\n",
        "    return sum(p.numel() for p in model.parameters() if p.requires_grad)\n",
        "\n",
        "print(f'The model has {count_parameters(model):,} trainable parameters')"
      ],
      "execution_count": 12,
      "outputs": [
        {
          "output_type": "stream",
          "text": [
            "The model has 43,567,158 trainable parameters\n"
          ],
          "name": "stdout"
        }
      ]
    },
    {
      "cell_type": "code",
      "metadata": {
        "colab_type": "code",
        "id": "FOvyZtAGGjxJ",
        "colab": {}
      },
      "source": [
        "criterion = nn.CrossEntropyLoss()\n",
        "optimizer = optim.SGD(model.parameters(), lr=0.005, momentum=0, dampening=0, weight_decay=0.0001, nesterov=False)\n",
        "\n",
        "criterion = criterion.to(device)"
      ],
      "execution_count": 14,
      "outputs": []
    },
    {
      "cell_type": "code",
      "metadata": {
        "colab_type": "code",
        "id": "xOeT-VJgGl41",
        "colab": {}
      },
      "source": [
        "def calculate_accuracy(y_pred, y):\n",
        "    top_pred = y_pred.argmax(1, keepdim = True)\n",
        "    correct = top_pred.eq(y.view_as(top_pred)).sum()\n",
        "    acc = correct.float() / y.shape[0]\n",
        "    return acc"
      ],
      "execution_count": 15,
      "outputs": []
    },
    {
      "cell_type": "code",
      "metadata": {
        "colab_type": "code",
        "id": "aDEKQRTHGo0y",
        "colab": {}
      },
      "source": [
        "def train(model, iterator, optimizer, criterion, device):\n",
        "    \n",
        "    epoch_loss = 0\n",
        "    epoch_acc = 0\n",
        "    \n",
        "    model.train()\n",
        "    \n",
        "    for (x, y) in iterator:\n",
        "        \n",
        "        x = x.to(device)\n",
        "        y = y.to(device)\n",
        "        y = y.type(torch.LongTensor)\n",
        "        y = y.to(device)\n",
        "        \n",
        "        optimizer.zero_grad()\n",
        "                \n",
        "        y_pred = model(x)\n",
        "        \n",
        "        loss = criterion(y_pred, y)\n",
        "        \n",
        "        acc = calculate_accuracy(y_pred, y)\n",
        "        \n",
        "        loss.backward()\n",
        "        \n",
        "        optimizer.step()\n",
        "        \n",
        "        epoch_loss += loss.item()\n",
        "        epoch_acc += acc.item()\n",
        "        \n",
        "    return epoch_loss / len(iterator), epoch_acc / len(iterator)"
      ],
      "execution_count": 16,
      "outputs": []
    },
    {
      "cell_type": "code",
      "metadata": {
        "colab_type": "code",
        "id": "5ARKf9d8Gq6a",
        "colab": {}
      },
      "source": [
        "def evaluate(model, iterator, criterion, device):\n",
        "    \n",
        "    epoch_loss = 0\n",
        "    epoch_acc = 0\n",
        "    \n",
        "    model.eval()\n",
        "    \n",
        "    with torch.no_grad():\n",
        "        \n",
        "        for (x, y) in iterator:\n",
        "\n",
        "            x = x.to(device)\n",
        "            y = y.to(device)\n",
        "            y = y.type(torch.LongTensor)\n",
        "            y = y.to(device)\n",
        "\n",
        "            y_pred = model(x)\n",
        "\n",
        "            loss = criterion(y_pred, y)\n",
        "\n",
        "            acc = calculate_accuracy(y_pred, y)\n",
        "\n",
        "            epoch_loss += loss.item()\n",
        "            epoch_acc += acc.item()\n",
        "        \n",
        "    return epoch_loss / len(iterator), epoch_acc / len(iterator)"
      ],
      "execution_count": 17,
      "outputs": []
    },
    {
      "cell_type": "code",
      "metadata": {
        "colab_type": "code",
        "id": "GUG4VqObGsqj",
        "colab": {}
      },
      "source": [
        "def epoch_time(start_time, end_time):\n",
        "    elapsed_time = end_time - start_time\n",
        "    elapsed_mins = int(elapsed_time / 60)\n",
        "    elapsed_secs = int(elapsed_time - (elapsed_mins * 60))\n",
        "    return elapsed_mins, elapsed_secs"
      ],
      "execution_count": 18,
      "outputs": []
    },
    {
      "cell_type": "code",
      "metadata": {
        "colab_type": "code",
        "id": "apf1gOmZGuau",
        "colab": {
          "base_uri": "https://localhost:8080/",
          "height": 1000
        },
        "outputId": "921aea99-0649-4474-f703-3f58c6119e6a"
      },
      "source": [
        "EPOCHS = 200\n",
        "\n",
        "best_valid_loss = float('inf')\n",
        "\n",
        "for epoch in range(EPOCHS):\n",
        "    \n",
        "    start_time = time.time()\n",
        "    \n",
        "    train_loss, train_acc = train(model, train_iterator, optimizer, criterion, device)\n",
        "    valid_loss, valid_acc = evaluate(model, valid_iterator, criterion, device)\n",
        "    \n",
        "    if valid_loss < best_valid_loss :\n",
        "        best_valid_loss = valid_loss\n",
        "        torch.save(model.state_dict(), 'tut2-model.pt')\n",
        "    \n",
        "    end_time = time.time()\n",
        "\n",
        "    epoch_mins, epoch_secs = epoch_time(start_time, end_time)\n",
        "    \n",
        "    print(f'Epoch: {epoch+1:02} | Epoch Time: {epoch_mins}m {epoch_secs}s')\n",
        "    print(f'\\tTrain Loss: {train_loss:.3f} | Train Acc: {train_acc*100:.2f}%')\n",
        "    print(f'\\t Val. Loss: {valid_loss:.3f} |  Val. Acc: {valid_acc*100:.2f}%')"
      ],
      "execution_count": 19,
      "outputs": [
        {
          "output_type": "stream",
          "text": [
            "Epoch: 01 | Epoch Time: 3m 15s\n",
            "\tTrain Loss: 4.560 | Train Acc: 4.98%\n",
            "\t Val. Loss: 4.464 |  Val. Acc: 7.71%\n",
            "Epoch: 02 | Epoch Time: 3m 15s\n",
            "\tTrain Loss: 4.370 | Train Acc: 8.37%\n",
            "\t Val. Loss: 4.267 |  Val. Acc: 11.44%\n",
            "Epoch: 03 | Epoch Time: 3m 15s\n",
            "\tTrain Loss: 4.123 | Train Acc: 13.65%\n",
            "\t Val. Loss: 3.959 |  Val. Acc: 17.39%\n",
            "Epoch: 04 | Epoch Time: 3m 15s\n",
            "\tTrain Loss: 3.788 | Train Acc: 20.81%\n",
            "\t Val. Loss: 3.554 |  Val. Acc: 26.54%\n",
            "Epoch: 05 | Epoch Time: 3m 15s\n",
            "\tTrain Loss: 3.426 | Train Acc: 28.60%\n",
            "\t Val. Loss: 3.221 |  Val. Acc: 31.76%\n",
            "Epoch: 06 | Epoch Time: 3m 15s\n",
            "\tTrain Loss: 3.074 | Train Acc: 34.59%\n",
            "\t Val. Loss: 2.862 |  Val. Acc: 37.66%\n",
            "Epoch: 07 | Epoch Time: 3m 15s\n",
            "\tTrain Loss: 2.729 | Train Acc: 41.42%\n",
            "\t Val. Loss: 2.562 |  Val. Acc: 42.96%\n",
            "Epoch: 08 | Epoch Time: 3m 15s\n",
            "\tTrain Loss: 2.427 | Train Acc: 48.81%\n",
            "\t Val. Loss: 2.254 |  Val. Acc: 48.68%\n",
            "Epoch: 09 | Epoch Time: 3m 14s\n",
            "\tTrain Loss: 2.140 | Train Acc: 52.87%\n",
            "\t Val. Loss: 1.958 |  Val. Acc: 55.17%\n",
            "Epoch: 10 | Epoch Time: 3m 15s\n",
            "\tTrain Loss: 1.846 | Train Acc: 61.10%\n",
            "\t Val. Loss: 1.728 |  Val. Acc: 60.73%\n",
            "Epoch: 11 | Epoch Time: 3m 15s\n",
            "\tTrain Loss: 1.661 | Train Acc: 65.68%\n",
            "\t Val. Loss: 1.502 |  Val. Acc: 66.76%\n",
            "Epoch: 12 | Epoch Time: 3m 15s\n",
            "\tTrain Loss: 1.430 | Train Acc: 71.78%\n",
            "\t Val. Loss: 1.310 |  Val. Acc: 71.19%\n",
            "Epoch: 13 | Epoch Time: 3m 15s\n",
            "\tTrain Loss: 1.196 | Train Acc: 77.59%\n",
            "\t Val. Loss: 1.143 |  Val. Acc: 75.14%\n",
            "Epoch: 14 | Epoch Time: 3m 15s\n",
            "\tTrain Loss: 1.039 | Train Acc: 81.23%\n",
            "\t Val. Loss: 0.977 |  Val. Acc: 78.33%\n",
            "Epoch: 15 | Epoch Time: 3m 15s\n",
            "\tTrain Loss: 0.886 | Train Acc: 84.28%\n",
            "\t Val. Loss: 0.849 |  Val. Acc: 80.15%\n",
            "Epoch: 16 | Epoch Time: 3m 15s\n",
            "\tTrain Loss: 0.779 | Train Acc: 85.30%\n",
            "\t Val. Loss: 0.792 |  Val. Acc: 80.72%\n",
            "Epoch: 17 | Epoch Time: 3m 15s\n",
            "\tTrain Loss: 0.675 | Train Acc: 88.79%\n",
            "\t Val. Loss: 0.707 |  Val. Acc: 83.28%\n",
            "Epoch: 18 | Epoch Time: 3m 15s\n",
            "\tTrain Loss: 0.595 | Train Acc: 90.37%\n",
            "\t Val. Loss: 0.633 |  Val. Acc: 85.27%\n",
            "Epoch: 19 | Epoch Time: 3m 15s\n",
            "\tTrain Loss: 0.483 | Train Acc: 92.90%\n",
            "\t Val. Loss: 0.561 |  Val. Acc: 86.73%\n",
            "Epoch: 20 | Epoch Time: 3m 15s\n",
            "\tTrain Loss: 0.422 | Train Acc: 93.63%\n",
            "\t Val. Loss: 0.520 |  Val. Acc: 87.58%\n",
            "Epoch: 21 | Epoch Time: 3m 15s\n",
            "\tTrain Loss: 0.373 | Train Acc: 95.06%\n",
            "\t Val. Loss: 0.480 |  Val. Acc: 88.74%\n",
            "Epoch: 22 | Epoch Time: 3m 15s\n",
            "\tTrain Loss: 0.328 | Train Acc: 95.75%\n",
            "\t Val. Loss: 0.445 |  Val. Acc: 89.45%\n",
            "Epoch: 23 | Epoch Time: 3m 17s\n",
            "\tTrain Loss: 0.286 | Train Acc: 96.62%\n",
            "\t Val. Loss: 0.427 |  Val. Acc: 89.79%\n",
            "Epoch: 24 | Epoch Time: 3m 16s\n",
            "\tTrain Loss: 0.256 | Train Acc: 97.21%\n",
            "\t Val. Loss: 0.426 |  Val. Acc: 89.33%\n",
            "Epoch: 25 | Epoch Time: 3m 17s\n",
            "\tTrain Loss: 0.219 | Train Acc: 97.88%\n",
            "\t Val. Loss: 0.389 |  Val. Acc: 90.62%\n",
            "Epoch: 26 | Epoch Time: 3m 17s\n",
            "\tTrain Loss: 0.190 | Train Acc: 98.18%\n",
            "\t Val. Loss: 0.370 |  Val. Acc: 91.29%\n",
            "Epoch: 27 | Epoch Time: 3m 17s\n",
            "\tTrain Loss: 0.190 | Train Acc: 98.14%\n",
            "\t Val. Loss: 0.361 |  Val. Acc: 91.15%\n",
            "Epoch: 28 | Epoch Time: 3m 17s\n",
            "\tTrain Loss: 0.157 | Train Acc: 98.69%\n",
            "\t Val. Loss: 0.345 |  Val. Acc: 91.38%\n",
            "Epoch: 29 | Epoch Time: 3m 17s\n",
            "\tTrain Loss: 0.156 | Train Acc: 99.05%\n",
            "\t Val. Loss: 0.342 |  Val. Acc: 91.42%\n",
            "Epoch: 30 | Epoch Time: 3m 16s\n",
            "\tTrain Loss: 0.133 | Train Acc: 99.21%\n",
            "\t Val. Loss: 0.332 |  Val. Acc: 91.52%\n",
            "Epoch: 31 | Epoch Time: 3m 15s\n",
            "\tTrain Loss: 0.118 | Train Acc: 99.09%\n",
            "\t Val. Loss: 0.317 |  Val. Acc: 91.56%\n",
            "Epoch: 32 | Epoch Time: 3m 15s\n",
            "\tTrain Loss: 0.119 | Train Acc: 98.93%\n",
            "\t Val. Loss: 0.338 |  Val. Acc: 91.40%\n"
          ],
          "name": "stdout"
        },
        {
          "output_type": "error",
          "ename": "KeyboardInterrupt",
          "evalue": "ignored",
          "traceback": [
            "\u001b[0;31m---------------------------------------------------------------------------\u001b[0m",
            "\u001b[0;31mKeyboardInterrupt\u001b[0m                         Traceback (most recent call last)",
            "\u001b[0;32m<ipython-input-19-3996abad1f1a>\u001b[0m in \u001b[0;36m<module>\u001b[0;34m()\u001b[0m\n\u001b[1;32m      8\u001b[0m \u001b[0;34m\u001b[0m\u001b[0m\n\u001b[1;32m      9\u001b[0m     \u001b[0mtrain_loss\u001b[0m\u001b[0;34m,\u001b[0m \u001b[0mtrain_acc\u001b[0m \u001b[0;34m=\u001b[0m \u001b[0mtrain\u001b[0m\u001b[0;34m(\u001b[0m\u001b[0mmodel\u001b[0m\u001b[0;34m,\u001b[0m \u001b[0mtrain_iterator\u001b[0m\u001b[0;34m,\u001b[0m \u001b[0moptimizer\u001b[0m\u001b[0;34m,\u001b[0m \u001b[0mcriterion\u001b[0m\u001b[0;34m,\u001b[0m \u001b[0mdevice\u001b[0m\u001b[0;34m)\u001b[0m\u001b[0;34m\u001b[0m\u001b[0;34m\u001b[0m\u001b[0m\n\u001b[0;32m---> 10\u001b[0;31m     \u001b[0mvalid_loss\u001b[0m\u001b[0;34m,\u001b[0m \u001b[0mvalid_acc\u001b[0m \u001b[0;34m=\u001b[0m \u001b[0mevaluate\u001b[0m\u001b[0;34m(\u001b[0m\u001b[0mmodel\u001b[0m\u001b[0;34m,\u001b[0m \u001b[0mvalid_iterator\u001b[0m\u001b[0;34m,\u001b[0m \u001b[0mcriterion\u001b[0m\u001b[0;34m,\u001b[0m \u001b[0mdevice\u001b[0m\u001b[0;34m)\u001b[0m\u001b[0;34m\u001b[0m\u001b[0;34m\u001b[0m\u001b[0m\n\u001b[0m\u001b[1;32m     11\u001b[0m \u001b[0;34m\u001b[0m\u001b[0m\n\u001b[1;32m     12\u001b[0m     \u001b[0;32mif\u001b[0m \u001b[0mvalid_loss\u001b[0m \u001b[0;34m<\u001b[0m \u001b[0mbest_valid_loss\u001b[0m \u001b[0;34m:\u001b[0m\u001b[0;34m\u001b[0m\u001b[0;34m\u001b[0m\u001b[0m\n",
            "\u001b[0;32m<ipython-input-17-ffc89ca1fa4d>\u001b[0m in \u001b[0;36mevaluate\u001b[0;34m(model, iterator, criterion, device)\u001b[0m\n\u001b[1;32m     21\u001b[0m             \u001b[0macc\u001b[0m \u001b[0;34m=\u001b[0m \u001b[0mcalculate_accuracy\u001b[0m\u001b[0;34m(\u001b[0m\u001b[0my_pred\u001b[0m\u001b[0;34m,\u001b[0m \u001b[0my\u001b[0m\u001b[0;34m)\u001b[0m\u001b[0;34m\u001b[0m\u001b[0;34m\u001b[0m\u001b[0m\n\u001b[1;32m     22\u001b[0m \u001b[0;34m\u001b[0m\u001b[0m\n\u001b[0;32m---> 23\u001b[0;31m             \u001b[0mepoch_loss\u001b[0m \u001b[0;34m+=\u001b[0m \u001b[0mloss\u001b[0m\u001b[0;34m.\u001b[0m\u001b[0mitem\u001b[0m\u001b[0;34m(\u001b[0m\u001b[0;34m)\u001b[0m\u001b[0;34m\u001b[0m\u001b[0;34m\u001b[0m\u001b[0m\n\u001b[0m\u001b[1;32m     24\u001b[0m             \u001b[0mepoch_acc\u001b[0m \u001b[0;34m+=\u001b[0m \u001b[0macc\u001b[0m\u001b[0;34m.\u001b[0m\u001b[0mitem\u001b[0m\u001b[0;34m(\u001b[0m\u001b[0;34m)\u001b[0m\u001b[0;34m\u001b[0m\u001b[0;34m\u001b[0m\u001b[0m\n\u001b[1;32m     25\u001b[0m \u001b[0;34m\u001b[0m\u001b[0m\n",
            "\u001b[0;31mKeyboardInterrupt\u001b[0m: "
          ]
        }
      ]
    },
    {
      "cell_type": "code",
      "metadata": {
        "colab_type": "code",
        "id": "hXwJhNjWGwy7",
        "colab": {}
      },
      "source": [
        ""
      ],
      "execution_count": null,
      "outputs": []
    }
  ]
}