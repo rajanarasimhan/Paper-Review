{
  "nbformat": 4,
  "nbformat_minor": 0,
  "metadata": {
    "accelerator": "GPU",
    "colab": {
      "name": "Flowers_lr=0.005_momentum=0.9_dampening=0_weight_decay=0.0001.ipynb",
      "provenance": [],
      "collapsed_sections": []
    },
    "kernelspec": {
      "display_name": "Python 3",
      "language": "python",
      "name": "python3"
    },
    "language_info": {
      "codemirror_mode": {
        "name": "ipython",
        "version": 3
      },
      "file_extension": ".py",
      "mimetype": "text/x-python",
      "name": "python",
      "nbconvert_exporter": "python",
      "pygments_lexer": "ipython3",
      "version": "3.7.3"
    },
    "widgets": {
      "application/vnd.jupyter.widget-state+json": {
        "8fba0d17ca9348b4a131d7e2c09af9b1": {
          "model_module": "@jupyter-widgets/controls",
          "model_name": "HBoxModel",
          "state": {
            "_view_name": "HBoxView",
            "_dom_classes": [],
            "_model_name": "HBoxModel",
            "_view_module": "@jupyter-widgets/controls",
            "_model_module_version": "1.5.0",
            "_view_count": null,
            "_view_module_version": "1.5.0",
            "box_style": "",
            "layout": "IPY_MODEL_acf61729173f4887939cc8895d7b42ee",
            "_model_module": "@jupyter-widgets/controls",
            "children": [
              "IPY_MODEL_c5c71adbe059443e8bbd3f5e6a701525",
              "IPY_MODEL_c855c605c2fe4000988c77134f6bd096"
            ]
          }
        },
        "acf61729173f4887939cc8895d7b42ee": {
          "model_module": "@jupyter-widgets/base",
          "model_name": "LayoutModel",
          "state": {
            "_view_name": "LayoutView",
            "grid_template_rows": null,
            "right": null,
            "justify_content": null,
            "_view_module": "@jupyter-widgets/base",
            "overflow": null,
            "_model_module_version": "1.2.0",
            "_view_count": null,
            "flex_flow": null,
            "width": null,
            "min_width": null,
            "border": null,
            "align_items": null,
            "bottom": null,
            "_model_module": "@jupyter-widgets/base",
            "top": null,
            "grid_column": null,
            "overflow_y": null,
            "overflow_x": null,
            "grid_auto_flow": null,
            "grid_area": null,
            "grid_template_columns": null,
            "flex": null,
            "_model_name": "LayoutModel",
            "justify_items": null,
            "grid_row": null,
            "max_height": null,
            "align_content": null,
            "visibility": null,
            "align_self": null,
            "height": null,
            "min_height": null,
            "padding": null,
            "grid_auto_rows": null,
            "grid_gap": null,
            "max_width": null,
            "order": null,
            "_view_module_version": "1.2.0",
            "grid_template_areas": null,
            "object_position": null,
            "object_fit": null,
            "grid_auto_columns": null,
            "margin": null,
            "display": null,
            "left": null
          }
        },
        "c5c71adbe059443e8bbd3f5e6a701525": {
          "model_module": "@jupyter-widgets/controls",
          "model_name": "FloatProgressModel",
          "state": {
            "_view_name": "ProgressView",
            "style": "IPY_MODEL_ea4b159c52944f59a04f62dd91fcd617",
            "_dom_classes": [],
            "description": "100%",
            "_model_name": "FloatProgressModel",
            "bar_style": "success",
            "max": 178728960,
            "_view_module": "@jupyter-widgets/controls",
            "_model_module_version": "1.5.0",
            "value": 178728960,
            "_view_count": null,
            "_view_module_version": "1.5.0",
            "orientation": "horizontal",
            "min": 0,
            "description_tooltip": null,
            "_model_module": "@jupyter-widgets/controls",
            "layout": "IPY_MODEL_0a7e9cb6c7674eea8167874cfaca75dc"
          }
        },
        "c855c605c2fe4000988c77134f6bd096": {
          "model_module": "@jupyter-widgets/controls",
          "model_name": "HTMLModel",
          "state": {
            "_view_name": "HTMLView",
            "style": "IPY_MODEL_296301df5a7247099f7a00e812987750",
            "_dom_classes": [],
            "description": "",
            "_model_name": "HTMLModel",
            "placeholder": "​",
            "_view_module": "@jupyter-widgets/controls",
            "_model_module_version": "1.5.0",
            "value": " 170M/170M [00:10&lt;00:00, 17.1MB/s]",
            "_view_count": null,
            "_view_module_version": "1.5.0",
            "description_tooltip": null,
            "_model_module": "@jupyter-widgets/controls",
            "layout": "IPY_MODEL_d26ca3da848341c7baec00e0a89da7dc"
          }
        },
        "ea4b159c52944f59a04f62dd91fcd617": {
          "model_module": "@jupyter-widgets/controls",
          "model_name": "ProgressStyleModel",
          "state": {
            "_view_name": "StyleView",
            "_model_name": "ProgressStyleModel",
            "description_width": "initial",
            "_view_module": "@jupyter-widgets/base",
            "_model_module_version": "1.5.0",
            "_view_count": null,
            "_view_module_version": "1.2.0",
            "bar_color": null,
            "_model_module": "@jupyter-widgets/controls"
          }
        },
        "0a7e9cb6c7674eea8167874cfaca75dc": {
          "model_module": "@jupyter-widgets/base",
          "model_name": "LayoutModel",
          "state": {
            "_view_name": "LayoutView",
            "grid_template_rows": null,
            "right": null,
            "justify_content": null,
            "_view_module": "@jupyter-widgets/base",
            "overflow": null,
            "_model_module_version": "1.2.0",
            "_view_count": null,
            "flex_flow": null,
            "width": null,
            "min_width": null,
            "border": null,
            "align_items": null,
            "bottom": null,
            "_model_module": "@jupyter-widgets/base",
            "top": null,
            "grid_column": null,
            "overflow_y": null,
            "overflow_x": null,
            "grid_auto_flow": null,
            "grid_area": null,
            "grid_template_columns": null,
            "flex": null,
            "_model_name": "LayoutModel",
            "justify_items": null,
            "grid_row": null,
            "max_height": null,
            "align_content": null,
            "visibility": null,
            "align_self": null,
            "height": null,
            "min_height": null,
            "padding": null,
            "grid_auto_rows": null,
            "grid_gap": null,
            "max_width": null,
            "order": null,
            "_view_module_version": "1.2.0",
            "grid_template_areas": null,
            "object_position": null,
            "object_fit": null,
            "grid_auto_columns": null,
            "margin": null,
            "display": null,
            "left": null
          }
        },
        "296301df5a7247099f7a00e812987750": {
          "model_module": "@jupyter-widgets/controls",
          "model_name": "DescriptionStyleModel",
          "state": {
            "_view_name": "StyleView",
            "_model_name": "DescriptionStyleModel",
            "description_width": "",
            "_view_module": "@jupyter-widgets/base",
            "_model_module_version": "1.5.0",
            "_view_count": null,
            "_view_module_version": "1.2.0",
            "_model_module": "@jupyter-widgets/controls"
          }
        },
        "d26ca3da848341c7baec00e0a89da7dc": {
          "model_module": "@jupyter-widgets/base",
          "model_name": "LayoutModel",
          "state": {
            "_view_name": "LayoutView",
            "grid_template_rows": null,
            "right": null,
            "justify_content": null,
            "_view_module": "@jupyter-widgets/base",
            "overflow": null,
            "_model_module_version": "1.2.0",
            "_view_count": null,
            "flex_flow": null,
            "width": null,
            "min_width": null,
            "border": null,
            "align_items": null,
            "bottom": null,
            "_model_module": "@jupyter-widgets/base",
            "top": null,
            "grid_column": null,
            "overflow_y": null,
            "overflow_x": null,
            "grid_auto_flow": null,
            "grid_area": null,
            "grid_template_columns": null,
            "flex": null,
            "_model_name": "LayoutModel",
            "justify_items": null,
            "grid_row": null,
            "max_height": null,
            "align_content": null,
            "visibility": null,
            "align_self": null,
            "height": null,
            "min_height": null,
            "padding": null,
            "grid_auto_rows": null,
            "grid_gap": null,
            "max_width": null,
            "order": null,
            "_view_module_version": "1.2.0",
            "grid_template_areas": null,
            "object_position": null,
            "object_fit": null,
            "grid_auto_columns": null,
            "margin": null,
            "display": null,
            "left": null
          }
        }
      }
    }
  },
  "cells": [
    {
      "cell_type": "code",
      "metadata": {
        "colab_type": "code",
        "id": "dLRaPpS1Ahzl",
        "colab": {
          "base_uri": "https://localhost:8080/",
          "height": 208
        },
        "outputId": "d2acd002-18e2-4d4d-f7f4-daf937796ccc"
      },
      "source": [
        "!wget -nc https://s3.amazonaws.com/content.udacity-data.com/courses/nd188/flower_data.zip\n",
        "!unzip -qq flower_data.zip"
      ],
      "execution_count": null,
      "outputs": [
        {
          "output_type": "stream",
          "text": [
            "--2020-08-19 14:24:49--  https://s3.amazonaws.com/content.udacity-data.com/courses/nd188/flower_data.zip\n",
            "Resolving s3.amazonaws.com (s3.amazonaws.com)... 52.216.137.230\n",
            "Connecting to s3.amazonaws.com (s3.amazonaws.com)|52.216.137.230|:443... connected.\n",
            "HTTP request sent, awaiting response... 200 OK\n",
            "Length: 311442766 (297M) [application/zip]\n",
            "Saving to: ‘flower_data.zip’\n",
            "\n",
            "flower_data.zip     100%[===================>] 297.01M  16.1MB/s    in 20s     \n",
            "\n",
            "2020-08-19 14:25:10 (14.8 MB/s) - ‘flower_data.zip’ saved [311442766/311442766]\n",
            "\n"
          ],
          "name": "stdout"
        }
      ]
    },
    {
      "cell_type": "code",
      "metadata": {
        "colab_type": "code",
        "id": "g1Nm9oWzBGLT",
        "colab": {}
      },
      "source": [
        "import torch\n",
        "import torch.nn as nn\n",
        "import torch.nn.functional as F\n",
        "import torch.optim as optim\n",
        "import torch.utils.data as data\n",
        "\n",
        "import torchvision.transforms as transforms\n",
        "import torchvision.datasets as datasets\n",
        "\n",
        "from sklearn import decomposition\n",
        "from sklearn import manifold\n",
        "from sklearn.metrics import confusion_matrix\n",
        "from sklearn.metrics import ConfusionMatrixDisplay\n",
        "import matplotlib.pyplot as plt\n",
        "import numpy as np\n",
        "\n",
        "import copy\n",
        "import random\n",
        "import time\n"
      ],
      "execution_count": null,
      "outputs": []
    },
    {
      "cell_type": "code",
      "metadata": {
        "colab_type": "code",
        "id": "4KSqpZQsBUyk",
        "colab": {}
      },
      "source": [
        "from torch.utils.data import Dataset, DataLoader"
      ],
      "execution_count": null,
      "outputs": []
    },
    {
      "cell_type": "code",
      "metadata": {
        "colab_type": "code",
        "id": "2QyNma3RBY8n",
        "colab": {}
      },
      "source": [
        "SEED = 1234\n",
        "\n",
        "random.seed(SEED)\n",
        "np.random.seed(SEED)\n",
        "torch.manual_seed(SEED)\n",
        "torch.cuda.manual_seed(SEED)\n",
        "torch.backends.cudnn.deterministic = True"
      ],
      "execution_count": null,
      "outputs": []
    },
    {
      "cell_type": "code",
      "metadata": {
        "colab_type": "code",
        "id": "0lWH1QXgB-oL",
        "colab": {}
      },
      "source": [
        "train_transforms = transforms.Compose([transforms.Resize(224),\n",
        "                                       transforms.CenterCrop(224),\n",
        "                                       transforms.RandomRotation(30),\n",
        "                                      transforms.RandomHorizontalFlip(),\n",
        "                                      transforms.RandomVerticalFlip(),\n",
        "                                      transforms.ToTensor(),\n",
        "                                      transforms.Normalize((0.485, 0.456, 0.406), (0.229, 0.224, 0.225))])\n"
      ],
      "execution_count": null,
      "outputs": []
    },
    {
      "cell_type": "code",
      "metadata": {
        "colab_type": "code",
        "id": "kZ-9GrhNBbBm",
        "colab": {}
      },
      "source": [
        "train_data = datasets.ImageFolder(root = '/content/flower_data/train',transform=train_transforms)"
      ],
      "execution_count": null,
      "outputs": []
    },
    {
      "cell_type": "code",
      "metadata": {
        "colab_type": "code",
        "id": "RXJg15cuB8Xt",
        "colab": {}
      },
      "source": [
        ""
      ],
      "execution_count": null,
      "outputs": []
    },
    {
      "cell_type": "code",
      "metadata": {
        "colab_type": "code",
        "id": "MPbPhF5iCoLX",
        "colab": {
          "base_uri": "https://localhost:8080/",
          "height": 52
        },
        "outputId": "19df7dbb-5c99-4103-bdf1-54737c7afe9a"
      },
      "source": [
        "VALID_RATIO = 0.25\n",
        "\n",
        "n_train_examples = int(len(train_data) * VALID_RATIO)\n",
        "n_valid_examples = len(train_data) - n_train_examples\n",
        "print(n_train_examples)\n",
        "print(n_valid_examples)\n",
        "\n",
        "train_data, valid_data = data.random_split(train_data, \n",
        "                                           [n_train_examples, n_valid_examples])"
      ],
      "execution_count": null,
      "outputs": [
        {
          "output_type": "stream",
          "text": [
            "1638\n",
            "4914\n"
          ],
          "name": "stdout"
        }
      ]
    },
    {
      "cell_type": "code",
      "metadata": {
        "colab_type": "code",
        "id": "q_s94JTcGQPS",
        "colab": {}
      },
      "source": [
        "device = torch.device('cuda' if torch.cuda.is_available() else 'cpu')"
      ],
      "execution_count": null,
      "outputs": []
    },
    {
      "cell_type": "code",
      "metadata": {
        "colab_type": "code",
        "id": "FGAYiY18GbJW",
        "colab": {}
      },
      "source": [
        "import copy\n",
        "import random\n",
        "import time\n",
        "import torchvision.models as models"
      ],
      "execution_count": null,
      "outputs": []
    },
    {
      "cell_type": "code",
      "metadata": {
        "colab_type": "code",
        "id": "i-vA-6eeGUV2",
        "colab": {
          "base_uri": "https://localhost:8080/",
          "height": 84,
          "referenced_widgets": [
            "8fba0d17ca9348b4a131d7e2c09af9b1",
            "acf61729173f4887939cc8895d7b42ee",
            "c5c71adbe059443e8bbd3f5e6a701525",
            "c855c605c2fe4000988c77134f6bd096",
            "ea4b159c52944f59a04f62dd91fcd617",
            "0a7e9cb6c7674eea8167874cfaca75dc",
            "296301df5a7247099f7a00e812987750",
            "d26ca3da848341c7baec00e0a89da7dc"
          ]
        },
        "outputId": "54b8e9d0-727e-454b-9883-f6688f62c920"
      },
      "source": [
        "model = models.resnet101(pretrained=True).to(device)\n",
        "\n",
        "for param in model.parameters():\n",
        "  param.requires_grad=True\n",
        "    \n",
        "model.fc = nn.Sequential(\n",
        "               nn.Linear(2048, 496),\n",
        "               nn.ReLU(inplace=True),\n",
        "               nn.Linear(496, 102)).to(device)"
      ],
      "execution_count": null,
      "outputs": [
        {
          "output_type": "stream",
          "text": [
            "Downloading: \"https://download.pytorch.org/models/resnet101-5d3b4d8f.pth\" to /root/.cache/torch/hub/checkpoints/resnet101-5d3b4d8f.pth\n"
          ],
          "name": "stderr"
        },
        {
          "output_type": "display_data",
          "data": {
            "application/vnd.jupyter.widget-view+json": {
              "model_id": "8fba0d17ca9348b4a131d7e2c09af9b1",
              "version_minor": 0,
              "version_major": 2
            },
            "text/plain": [
              "HBox(children=(FloatProgress(value=0.0, max=178728960.0), HTML(value='')))"
            ]
          },
          "metadata": {
            "tags": []
          }
        },
        {
          "output_type": "stream",
          "text": [
            "\n"
          ],
          "name": "stdout"
        }
      ]
    },
    {
      "cell_type": "code",
      "metadata": {
        "colab_type": "code",
        "id": "r62z9P8AGXsK",
        "colab": {}
      },
      "source": [
        "BATCH_SIZE = 16\n",
        "train_iterator = data.DataLoader(train_data, \n",
        "                                 shuffle = True, \n",
        "                                 batch_size = BATCH_SIZE)\n",
        "\n",
        "valid_iterator = data.DataLoader(valid_data, \n",
        "                                 batch_size = BATCH_SIZE)"
      ],
      "execution_count": null,
      "outputs": []
    },
    {
      "cell_type": "code",
      "metadata": {
        "colab_type": "code",
        "id": "kru36GPPGhjS",
        "colab": {
          "base_uri": "https://localhost:8080/",
          "height": 35
        },
        "outputId": "960e999e-97a0-4274-c4a9-86d5659a29bc"
      },
      "source": [
        "def count_parameters(model):\n",
        "    return sum(p.numel() for p in model.parameters() if p.requires_grad)\n",
        "\n",
        "print(f'The model has {count_parameters(model):,} trainable parameters')"
      ],
      "execution_count": null,
      "outputs": [
        {
          "output_type": "stream",
          "text": [
            "The model has 43,567,158 trainable parameters\n"
          ],
          "name": "stdout"
        }
      ]
    },
    {
      "cell_type": "code",
      "metadata": {
        "colab_type": "code",
        "id": "FOvyZtAGGjxJ",
        "colab": {}
      },
      "source": [
        "criterion = nn.CrossEntropyLoss()\n",
        "optimizer = optim.SGD(model.parameters(), lr=0.005, momentum=0.9, dampening=0, weight_decay=0.0001, nesterov=True)\n",
        "\n",
        "criterion = criterion.to(device)"
      ],
      "execution_count": null,
      "outputs": []
    },
    {
      "cell_type": "code",
      "metadata": {
        "colab_type": "code",
        "id": "xOeT-VJgGl41",
        "colab": {}
      },
      "source": [
        "def calculate_accuracy(y_pred, y):\n",
        "    top_pred = y_pred.argmax(1, keepdim = True)\n",
        "    correct = top_pred.eq(y.view_as(top_pred)).sum()\n",
        "    acc = correct.float() / y.shape[0]\n",
        "    return acc"
      ],
      "execution_count": null,
      "outputs": []
    },
    {
      "cell_type": "code",
      "metadata": {
        "colab_type": "code",
        "id": "aDEKQRTHGo0y",
        "colab": {}
      },
      "source": [
        "def train(model, iterator, optimizer, criterion, device):\n",
        "    \n",
        "    epoch_loss = 0\n",
        "    epoch_acc = 0\n",
        "    \n",
        "    model.train()\n",
        "    \n",
        "    for (x, y) in iterator:\n",
        "        \n",
        "        x = x.to(device)\n",
        "        y = y.to(device)\n",
        "        y = y.type(torch.LongTensor)\n",
        "        y = y.to(device)\n",
        "        \n",
        "        optimizer.zero_grad()\n",
        "                \n",
        "        y_pred = model(x)\n",
        "        \n",
        "        loss = criterion(y_pred, y)\n",
        "        \n",
        "        acc = calculate_accuracy(y_pred, y)\n",
        "        \n",
        "        loss.backward()\n",
        "        \n",
        "        optimizer.step()\n",
        "        \n",
        "        epoch_loss += loss.item()\n",
        "        epoch_acc += acc.item()\n",
        "        \n",
        "    return epoch_loss / len(iterator), epoch_acc / len(iterator)"
      ],
      "execution_count": null,
      "outputs": []
    },
    {
      "cell_type": "code",
      "metadata": {
        "colab_type": "code",
        "id": "5ARKf9d8Gq6a",
        "colab": {}
      },
      "source": [
        "def evaluate(model, iterator, criterion, device):\n",
        "    \n",
        "    epoch_loss = 0\n",
        "    epoch_acc = 0\n",
        "    \n",
        "    model.eval()\n",
        "    \n",
        "    with torch.no_grad():\n",
        "        \n",
        "        for (x, y) in iterator:\n",
        "\n",
        "            x = x.to(device)\n",
        "            y = y.to(device)\n",
        "            y = y.type(torch.LongTensor)\n",
        "            y = y.to(device)\n",
        "\n",
        "            y_pred = model(x)\n",
        "\n",
        "            loss = criterion(y_pred, y)\n",
        "\n",
        "            acc = calculate_accuracy(y_pred, y)\n",
        "\n",
        "            epoch_loss += loss.item()\n",
        "            epoch_acc += acc.item()\n",
        "        \n",
        "    return epoch_loss / len(iterator), epoch_acc / len(iterator)"
      ],
      "execution_count": null,
      "outputs": []
    },
    {
      "cell_type": "code",
      "metadata": {
        "colab_type": "code",
        "id": "GUG4VqObGsqj",
        "colab": {}
      },
      "source": [
        "def epoch_time(start_time, end_time):\n",
        "    elapsed_time = end_time - start_time\n",
        "    elapsed_mins = int(elapsed_time / 60)\n",
        "    elapsed_secs = int(elapsed_time - (elapsed_mins * 60))\n",
        "    return elapsed_mins, elapsed_secs"
      ],
      "execution_count": null,
      "outputs": []
    },
    {
      "cell_type": "code",
      "metadata": {
        "colab_type": "code",
        "id": "apf1gOmZGuau",
        "colab": {
          "base_uri": "https://localhost:8080/",
          "height": 1000
        },
        "outputId": "d1b35ec6-7af6-492c-9086-3fa2a7b6ec18"
      },
      "source": [
        "EPOCHS = 200\n",
        "\n",
        "best_valid_loss = float('inf')\n",
        "\n",
        "for epoch in range(EPOCHS):\n",
        "    \n",
        "    start_time = time.time()\n",
        "    \n",
        "    train_loss, train_acc = train(model, train_iterator, optimizer, criterion, device)\n",
        "    valid_loss, valid_acc = evaluate(model, valid_iterator, criterion, device)\n",
        "    \n",
        "    if valid_loss < best_valid_loss :\n",
        "        best_valid_loss = valid_loss\n",
        "        torch.save(model.state_dict(), 'tut2-model.pt')\n",
        "    \n",
        "    end_time = time.time()\n",
        "\n",
        "    epoch_mins, epoch_secs = epoch_time(start_time, end_time)\n",
        "    \n",
        "    print(f'Epoch: {epoch+1:02} | Epoch Time: {epoch_mins}m {epoch_secs}s')\n",
        "    print(f'\\tTrain Loss: {train_loss:.3f} | Train Acc: {train_acc*100:.2f}%')\n",
        "    print(f'\\t Val. Loss: {valid_loss:.3f} |  Val. Acc: {valid_acc*100:.2f}%')"
      ],
      "execution_count": null,
      "outputs": [
        {
          "output_type": "stream",
          "text": [
            "Epoch: 01 | Epoch Time: 3m 14s\n",
            "\tTrain Loss: 4.054 | Train Acc: 12.72%\n",
            "\t Val. Loss: 2.937 |  Val. Acc: 32.12%\n",
            "Epoch: 02 | Epoch Time: 3m 15s\n",
            "\tTrain Loss: 2.271 | Train Acc: 45.53%\n",
            "\t Val. Loss: 1.589 |  Val. Acc: 59.48%\n",
            "Epoch: 03 | Epoch Time: 3m 15s\n",
            "\tTrain Loss: 1.181 | Train Acc: 68.63%\n",
            "\t Val. Loss: 1.117 |  Val. Acc: 69.05%\n",
            "Epoch: 04 | Epoch Time: 3m 14s\n",
            "\tTrain Loss: 0.783 | Train Acc: 78.07%\n",
            "\t Val. Loss: 1.030 |  Val. Acc: 71.33%\n",
            "Epoch: 05 | Epoch Time: 3m 14s\n",
            "\tTrain Loss: 0.620 | Train Acc: 82.75%\n",
            "\t Val. Loss: 1.039 |  Val. Acc: 73.68%\n",
            "Epoch: 06 | Epoch Time: 3m 14s\n",
            "\tTrain Loss: 0.458 | Train Acc: 87.22%\n",
            "\t Val. Loss: 0.928 |  Val. Acc: 75.12%\n",
            "Epoch: 07 | Epoch Time: 3m 15s\n",
            "\tTrain Loss: 0.398 | Train Acc: 88.25%\n",
            "\t Val. Loss: 0.576 |  Val. Acc: 84.66%\n",
            "Epoch: 08 | Epoch Time: 3m 16s\n",
            "\tTrain Loss: 0.299 | Train Acc: 92.25%\n",
            "\t Val. Loss: 0.911 |  Val. Acc: 78.47%\n",
            "Epoch: 09 | Epoch Time: 3m 17s\n",
            "\tTrain Loss: 0.243 | Train Acc: 93.20%\n",
            "\t Val. Loss: 0.712 |  Val. Acc: 81.53%\n",
            "Epoch: 10 | Epoch Time: 3m 18s\n",
            "\tTrain Loss: 0.215 | Train Acc: 93.39%\n",
            "\t Val. Loss: 0.619 |  Val. Acc: 84.27%\n",
            "Epoch: 11 | Epoch Time: 3m 17s\n",
            "\tTrain Loss: 0.224 | Train Acc: 93.08%\n",
            "\t Val. Loss: 0.675 |  Val. Acc: 83.24%\n",
            "Epoch: 12 | Epoch Time: 3m 18s\n",
            "\tTrain Loss: 0.198 | Train Acc: 93.91%\n",
            "\t Val. Loss: 0.543 |  Val. Acc: 86.10%\n",
            "Epoch: 13 | Epoch Time: 3m 15s\n",
            "\tTrain Loss: 0.142 | Train Acc: 96.44%\n",
            "\t Val. Loss: 0.597 |  Val. Acc: 85.06%\n",
            "Epoch: 14 | Epoch Time: 3m 16s\n",
            "\tTrain Loss: 0.140 | Train Acc: 96.46%\n",
            "\t Val. Loss: 0.564 |  Val. Acc: 85.53%\n",
            "Epoch: 15 | Epoch Time: 3m 16s\n",
            "\tTrain Loss: 0.167 | Train Acc: 94.58%\n",
            "\t Val. Loss: 0.759 |  Val. Acc: 81.51%\n",
            "Epoch: 16 | Epoch Time: 3m 16s\n",
            "\tTrain Loss: 0.203 | Train Acc: 94.11%\n",
            "\t Val. Loss: 0.554 |  Val. Acc: 86.22%\n",
            "Epoch: 17 | Epoch Time: 3m 17s\n",
            "\tTrain Loss: 0.132 | Train Acc: 96.50%\n",
            "\t Val. Loss: 0.417 |  Val. Acc: 89.69%\n",
            "Epoch: 18 | Epoch Time: 3m 17s\n",
            "\tTrain Loss: 0.096 | Train Acc: 97.71%\n",
            "\t Val. Loss: 0.479 |  Val. Acc: 88.45%\n",
            "Epoch: 19 | Epoch Time: 3m 18s\n",
            "\tTrain Loss: 0.113 | Train Acc: 97.33%\n",
            "\t Val. Loss: 0.526 |  Val. Acc: 86.79%\n",
            "Epoch: 20 | Epoch Time: 3m 18s\n",
            "\tTrain Loss: 0.074 | Train Acc: 98.24%\n",
            "\t Val. Loss: 0.445 |  Val. Acc: 89.45%\n",
            "Epoch: 21 | Epoch Time: 3m 18s\n",
            "\tTrain Loss: 0.069 | Train Acc: 98.10%\n",
            "\t Val. Loss: 0.701 |  Val. Acc: 84.92%\n",
            "Epoch: 22 | Epoch Time: 3m 18s\n",
            "\tTrain Loss: 0.096 | Train Acc: 97.33%\n",
            "\t Val. Loss: 0.419 |  Val. Acc: 89.53%\n",
            "Epoch: 23 | Epoch Time: 3m 18s\n",
            "\tTrain Loss: 0.065 | Train Acc: 98.04%\n",
            "\t Val. Loss: 0.446 |  Val. Acc: 89.47%\n",
            "Epoch: 24 | Epoch Time: 3m 16s\n",
            "\tTrain Loss: 0.073 | Train Acc: 97.94%\n",
            "\t Val. Loss: 0.462 |  Val. Acc: 88.39%\n",
            "Epoch: 25 | Epoch Time: 3m 13s\n",
            "\tTrain Loss: 0.030 | Train Acc: 99.45%\n",
            "\t Val. Loss: 0.378 |  Val. Acc: 90.65%\n",
            "Epoch: 26 | Epoch Time: 3m 13s\n",
            "\tTrain Loss: 0.016 | Train Acc: 99.76%\n",
            "\t Val. Loss: 0.367 |  Val. Acc: 91.11%\n",
            "Epoch: 27 | Epoch Time: 3m 12s\n",
            "\tTrain Loss: 0.027 | Train Acc: 99.45%\n",
            "\t Val. Loss: 0.364 |  Val. Acc: 91.34%\n",
            "Epoch: 28 | Epoch Time: 3m 10s\n",
            "\tTrain Loss: 0.018 | Train Acc: 99.64%\n",
            "\t Val. Loss: 0.344 |  Val. Acc: 92.07%\n",
            "Epoch: 29 | Epoch Time: 3m 9s\n",
            "\tTrain Loss: 0.048 | Train Acc: 98.54%\n",
            "\t Val. Loss: 0.493 |  Val. Acc: 88.82%\n",
            "Epoch: 30 | Epoch Time: 3m 9s\n",
            "\tTrain Loss: 0.058 | Train Acc: 98.28%\n",
            "\t Val. Loss: 0.558 |  Val. Acc: 87.28%\n",
            "Epoch: 31 | Epoch Time: 3m 9s\n",
            "\tTrain Loss: 0.079 | Train Acc: 98.24%\n",
            "\t Val. Loss: 0.442 |  Val. Acc: 89.39%\n",
            "Epoch: 32 | Epoch Time: 3m 8s\n",
            "\tTrain Loss: 0.035 | Train Acc: 99.21%\n",
            "\t Val. Loss: 0.475 |  Val. Acc: 89.29%\n",
            "Epoch: 33 | Epoch Time: 3m 7s\n",
            "\tTrain Loss: 0.039 | Train Acc: 98.87%\n",
            "\t Val. Loss: 0.424 |  Val. Acc: 89.73%\n",
            "Epoch: 34 | Epoch Time: 3m 7s\n",
            "\tTrain Loss: 0.071 | Train Acc: 98.12%\n",
            "\t Val. Loss: 0.490 |  Val. Acc: 88.39%\n",
            "Epoch: 35 | Epoch Time: 3m 8s\n",
            "\tTrain Loss: 0.065 | Train Acc: 98.12%\n",
            "\t Val. Loss: 0.486 |  Val. Acc: 88.49%\n",
            "Epoch: 36 | Epoch Time: 3m 8s\n",
            "\tTrain Loss: 0.079 | Train Acc: 97.61%\n",
            "\t Val. Loss: 0.528 |  Val. Acc: 87.97%\n",
            "Epoch: 37 | Epoch Time: 3m 9s\n",
            "\tTrain Loss: 0.116 | Train Acc: 96.36%\n",
            "\t Val. Loss: 0.647 |  Val. Acc: 84.33%\n",
            "Epoch: 38 | Epoch Time: 3m 8s\n",
            "\tTrain Loss: 0.085 | Train Acc: 97.94%\n",
            "\t Val. Loss: 0.488 |  Val. Acc: 88.86%\n",
            "Epoch: 39 | Epoch Time: 3m 8s\n",
            "\tTrain Loss: 0.040 | Train Acc: 98.73%\n",
            "\t Val. Loss: 0.488 |  Val. Acc: 89.18%\n",
            "Epoch: 40 | Epoch Time: 3m 10s\n",
            "\tTrain Loss: 0.051 | Train Acc: 98.85%\n",
            "\t Val. Loss: 0.502 |  Val. Acc: 88.25%\n",
            "Epoch: 41 | Epoch Time: 3m 9s\n",
            "\tTrain Loss: 0.060 | Train Acc: 98.18%\n",
            "\t Val. Loss: 0.437 |  Val. Acc: 89.51%\n",
            "Epoch: 42 | Epoch Time: 3m 8s\n",
            "\tTrain Loss: 0.023 | Train Acc: 99.58%\n",
            "\t Val. Loss: 0.359 |  Val. Acc: 91.50%\n",
            "Epoch: 43 | Epoch Time: 3m 9s\n",
            "\tTrain Loss: 0.013 | Train Acc: 99.58%\n",
            "\t Val. Loss: 0.347 |  Val. Acc: 92.23%\n",
            "Epoch: 44 | Epoch Time: 3m 9s\n",
            "\tTrain Loss: 0.015 | Train Acc: 99.58%\n",
            "\t Val. Loss: 0.371 |  Val. Acc: 91.38%\n",
            "Epoch: 45 | Epoch Time: 3m 9s\n",
            "\tTrain Loss: 0.011 | Train Acc: 99.82%\n",
            "\t Val. Loss: 0.348 |  Val. Acc: 91.82%\n",
            "Epoch: 46 | Epoch Time: 3m 9s\n",
            "\tTrain Loss: 0.020 | Train Acc: 99.51%\n",
            "\t Val. Loss: 0.411 |  Val. Acc: 90.32%\n",
            "Epoch: 47 | Epoch Time: 3m 8s\n",
            "\tTrain Loss: 0.029 | Train Acc: 99.09%\n",
            "\t Val. Loss: 0.373 |  Val. Acc: 91.17%\n",
            "Epoch: 48 | Epoch Time: 3m 9s\n",
            "\tTrain Loss: 0.026 | Train Acc: 99.45%\n",
            "\t Val. Loss: 0.434 |  Val. Acc: 90.48%\n",
            "Epoch: 49 | Epoch Time: 3m 10s\n",
            "\tTrain Loss: 0.022 | Train Acc: 99.41%\n",
            "\t Val. Loss: 0.377 |  Val. Acc: 91.13%\n",
            "Epoch: 50 | Epoch Time: 3m 10s\n",
            "\tTrain Loss: 0.020 | Train Acc: 99.64%\n",
            "\t Val. Loss: 0.332 |  Val. Acc: 92.29%\n",
            "Epoch: 51 | Epoch Time: 3m 8s\n",
            "\tTrain Loss: 0.012 | Train Acc: 99.70%\n",
            "\t Val. Loss: 0.325 |  Val. Acc: 92.72%\n",
            "Epoch: 52 | Epoch Time: 3m 8s\n",
            "\tTrain Loss: 0.012 | Train Acc: 99.70%\n",
            "\t Val. Loss: 0.343 |  Val. Acc: 91.86%\n",
            "Epoch: 53 | Epoch Time: 3m 6s\n",
            "\tTrain Loss: 0.017 | Train Acc: 99.58%\n",
            "\t Val. Loss: 0.350 |  Val. Acc: 91.90%\n",
            "Epoch: 54 | Epoch Time: 3m 6s\n",
            "\tTrain Loss: 0.026 | Train Acc: 99.13%\n",
            "\t Val. Loss: 0.430 |  Val. Acc: 89.85%\n",
            "Epoch: 55 | Epoch Time: 3m 7s\n",
            "\tTrain Loss: 0.059 | Train Acc: 98.12%\n",
            "\t Val. Loss: 0.451 |  Val. Acc: 89.25%\n",
            "Epoch: 56 | Epoch Time: 3m 6s\n",
            "\tTrain Loss: 0.029 | Train Acc: 99.33%\n",
            "\t Val. Loss: 0.473 |  Val. Acc: 89.71%\n",
            "Epoch: 57 | Epoch Time: 3m 7s\n",
            "\tTrain Loss: 0.031 | Train Acc: 99.09%\n",
            "\t Val. Loss: 0.582 |  Val. Acc: 87.70%\n",
            "Epoch: 58 | Epoch Time: 3m 7s\n",
            "\tTrain Loss: 0.063 | Train Acc: 98.00%\n",
            "\t Val. Loss: 0.457 |  Val. Acc: 89.79%\n",
            "Epoch: 59 | Epoch Time: 3m 6s\n",
            "\tTrain Loss: 0.040 | Train Acc: 98.85%\n",
            "\t Val. Loss: 0.664 |  Val. Acc: 85.41%\n",
            "Epoch: 60 | Epoch Time: 3m 6s\n",
            "\tTrain Loss: 0.046 | Train Acc: 98.50%\n",
            "\t Val. Loss: 0.385 |  Val. Acc: 90.81%\n",
            "Epoch: 61 | Epoch Time: 3m 6s\n",
            "\tTrain Loss: 0.033 | Train Acc: 99.03%\n",
            "\t Val. Loss: 0.384 |  Val. Acc: 90.89%\n"
          ],
          "name": "stdout"
        },
        {
          "output_type": "error",
          "ename": "KeyboardInterrupt",
          "evalue": "ignored",
          "traceback": [
            "\u001b[0;31m---------------------------------------------------------------------------\u001b[0m",
            "\u001b[0;31mKeyboardInterrupt\u001b[0m                         Traceback (most recent call last)",
            "\u001b[0;32m<ipython-input-18-3996abad1f1a>\u001b[0m in \u001b[0;36m<module>\u001b[0;34m()\u001b[0m\n\u001b[1;32m      8\u001b[0m \u001b[0;34m\u001b[0m\u001b[0m\n\u001b[1;32m      9\u001b[0m     \u001b[0mtrain_loss\u001b[0m\u001b[0;34m,\u001b[0m \u001b[0mtrain_acc\u001b[0m \u001b[0;34m=\u001b[0m \u001b[0mtrain\u001b[0m\u001b[0;34m(\u001b[0m\u001b[0mmodel\u001b[0m\u001b[0;34m,\u001b[0m \u001b[0mtrain_iterator\u001b[0m\u001b[0;34m,\u001b[0m \u001b[0moptimizer\u001b[0m\u001b[0;34m,\u001b[0m \u001b[0mcriterion\u001b[0m\u001b[0;34m,\u001b[0m \u001b[0mdevice\u001b[0m\u001b[0;34m)\u001b[0m\u001b[0;34m\u001b[0m\u001b[0;34m\u001b[0m\u001b[0m\n\u001b[0;32m---> 10\u001b[0;31m     \u001b[0mvalid_loss\u001b[0m\u001b[0;34m,\u001b[0m \u001b[0mvalid_acc\u001b[0m \u001b[0;34m=\u001b[0m \u001b[0mevaluate\u001b[0m\u001b[0;34m(\u001b[0m\u001b[0mmodel\u001b[0m\u001b[0;34m,\u001b[0m \u001b[0mvalid_iterator\u001b[0m\u001b[0;34m,\u001b[0m \u001b[0mcriterion\u001b[0m\u001b[0;34m,\u001b[0m \u001b[0mdevice\u001b[0m\u001b[0;34m)\u001b[0m\u001b[0;34m\u001b[0m\u001b[0;34m\u001b[0m\u001b[0m\n\u001b[0m\u001b[1;32m     11\u001b[0m \u001b[0;34m\u001b[0m\u001b[0m\n\u001b[1;32m     12\u001b[0m     \u001b[0;32mif\u001b[0m \u001b[0mvalid_loss\u001b[0m \u001b[0;34m<\u001b[0m \u001b[0mbest_valid_loss\u001b[0m \u001b[0;34m:\u001b[0m\u001b[0;34m\u001b[0m\u001b[0;34m\u001b[0m\u001b[0m\n",
            "\u001b[0;32m<ipython-input-16-ffc89ca1fa4d>\u001b[0m in \u001b[0;36mevaluate\u001b[0;34m(model, iterator, criterion, device)\u001b[0m\n\u001b[1;32m     21\u001b[0m             \u001b[0macc\u001b[0m \u001b[0;34m=\u001b[0m \u001b[0mcalculate_accuracy\u001b[0m\u001b[0;34m(\u001b[0m\u001b[0my_pred\u001b[0m\u001b[0;34m,\u001b[0m \u001b[0my\u001b[0m\u001b[0;34m)\u001b[0m\u001b[0;34m\u001b[0m\u001b[0;34m\u001b[0m\u001b[0m\n\u001b[1;32m     22\u001b[0m \u001b[0;34m\u001b[0m\u001b[0m\n\u001b[0;32m---> 23\u001b[0;31m             \u001b[0mepoch_loss\u001b[0m \u001b[0;34m+=\u001b[0m \u001b[0mloss\u001b[0m\u001b[0;34m.\u001b[0m\u001b[0mitem\u001b[0m\u001b[0;34m(\u001b[0m\u001b[0;34m)\u001b[0m\u001b[0;34m\u001b[0m\u001b[0;34m\u001b[0m\u001b[0m\n\u001b[0m\u001b[1;32m     24\u001b[0m             \u001b[0mepoch_acc\u001b[0m \u001b[0;34m+=\u001b[0m \u001b[0macc\u001b[0m\u001b[0;34m.\u001b[0m\u001b[0mitem\u001b[0m\u001b[0;34m(\u001b[0m\u001b[0;34m)\u001b[0m\u001b[0;34m\u001b[0m\u001b[0;34m\u001b[0m\u001b[0m\n\u001b[1;32m     25\u001b[0m \u001b[0;34m\u001b[0m\u001b[0m\n",
            "\u001b[0;31mKeyboardInterrupt\u001b[0m: "
          ]
        }
      ]
    },
    {
      "cell_type": "code",
      "metadata": {
        "colab_type": "code",
        "id": "hXwJhNjWGwy7",
        "colab": {}
      },
      "source": [
        ""
      ],
      "execution_count": null,
      "outputs": []
    }
  ]
}